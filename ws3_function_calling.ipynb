{
 "cells": [
  {
   "cell_type": "code",
   "execution_count": null,
   "metadata": {},
   "outputs": [],
   "source": []
  },
  {
   "cell_type": "code",
   "execution_count": 62,
   "metadata": {},
   "outputs": [
    {
     "name": "stdout",
     "output_type": "stream",
     "text": [
      "Defaulting to user installation because normal site-packages is not writeable\n",
      "Requirement already satisfied: openai in /Users/thomaskanz/Library/Python/3.9/lib/python/site-packages (1.10.0)\n",
      "Requirement already satisfied: anyio<5,>=3.5.0 in /Users/thomaskanz/Library/Python/3.9/lib/python/site-packages (from openai) (4.2.0)\n",
      "Requirement already satisfied: distro<2,>=1.7.0 in /Users/thomaskanz/Library/Python/3.9/lib/python/site-packages (from openai) (1.9.0)\n",
      "Requirement already satisfied: httpx<1,>=0.23.0 in /Users/thomaskanz/Library/Python/3.9/lib/python/site-packages (from openai) (0.26.0)\n",
      "Requirement already satisfied: pydantic<3,>=1.9.0 in /Users/thomaskanz/Library/Python/3.9/lib/python/site-packages (from openai) (2.6.0)\n",
      "Requirement already satisfied: sniffio in /Users/thomaskanz/Library/Python/3.9/lib/python/site-packages (from openai) (1.3.0)\n",
      "Requirement already satisfied: tqdm>4 in /Users/thomaskanz/Library/Python/3.9/lib/python/site-packages (from openai) (4.66.1)\n",
      "Requirement already satisfied: typing-extensions<5,>=4.7 in /Users/thomaskanz/Library/Python/3.9/lib/python/site-packages (from openai) (4.9.0)\n",
      "Requirement already satisfied: idna>=2.8 in /Users/thomaskanz/Library/Python/3.9/lib/python/site-packages (from anyio<5,>=3.5.0->openai) (3.6)\n",
      "Requirement already satisfied: exceptiongroup>=1.0.2 in /Users/thomaskanz/Library/Python/3.9/lib/python/site-packages (from anyio<5,>=3.5.0->openai) (1.2.0)\n",
      "Requirement already satisfied: certifi in /Users/thomaskanz/Library/Python/3.9/lib/python/site-packages (from httpx<1,>=0.23.0->openai) (2024.2.2)\n",
      "Requirement already satisfied: httpcore==1.* in /Users/thomaskanz/Library/Python/3.9/lib/python/site-packages (from httpx<1,>=0.23.0->openai) (1.0.2)\n",
      "Requirement already satisfied: h11<0.15,>=0.13 in /Users/thomaskanz/Library/Python/3.9/lib/python/site-packages (from httpcore==1.*->httpx<1,>=0.23.0->openai) (0.14.0)\n",
      "Requirement already satisfied: annotated-types>=0.4.0 in /Users/thomaskanz/Library/Python/3.9/lib/python/site-packages (from pydantic<3,>=1.9.0->openai) (0.6.0)\n",
      "Requirement already satisfied: pydantic-core==2.16.1 in /Users/thomaskanz/Library/Python/3.9/lib/python/site-packages (from pydantic<3,>=1.9.0->openai) (2.16.1)\n",
      "\n",
      "\u001b[1m[\u001b[0m\u001b[34;49mnotice\u001b[0m\u001b[1;39;49m]\u001b[0m\u001b[39;49m A new release of pip is available: \u001b[0m\u001b[31;49m23.2.1\u001b[0m\u001b[39;49m -> \u001b[0m\u001b[32;49m24.2\u001b[0m\n",
      "\u001b[1m[\u001b[0m\u001b[34;49mnotice\u001b[0m\u001b[1;39;49m]\u001b[0m\u001b[39;49m To update, run: \u001b[0m\u001b[32;49m/Library/Developer/CommandLineTools/usr/bin/python3 -m pip install --upgrade pip\u001b[0m\n"
     ]
    }
   ],
   "source": [
    "!pip install openai"
   ]
  },
  {
   "cell_type": "code",
   "execution_count": 63,
   "metadata": {},
   "outputs": [],
   "source": [
    "from openai import OpenAI\n",
    "import json\n",
    "import os\n",
    "from dotenv import load_dotenv"
   ]
  },
  {
   "cell_type": "code",
   "execution_count": 132,
   "metadata": {},
   "outputs": [
    {
     "name": "stdout",
     "output_type": "stream",
     "text": [
      "I'm unable to provide real-time weather information as my training only includes data up to October 2023. However, you can check a reliable weather website or app for the current weather in Pittsburgh.\n"
     ]
    }
   ],
   "source": [
    "\n",
    "\n",
    "client = OpenAI()\n",
    "\n",
    "response = client.chat.completions.create(\n",
    "    model=\"gpt-4o-mini\",\n",
    "    messages = [\n",
    "    {\"role\": \"system\", \"content\": \"You are a weather assistant. Help the user to determine the weather at a specific location.\"},\n",
    "    {\"role\":\"user\",\"content\": \"whats the weather in pittsburgh rn\"}\n",
    "    ],\n",
    ")\n",
    "print(response.choices[0].message.content)"
   ]
  },
  {
   "cell_type": "code",
   "execution_count": 65,
   "metadata": {},
   "outputs": [],
   "source": [
    "def get_current_weather(location):\n",
    "    # Simulate a weather API response\n",
    "    weather_info = {\n",
    "        \"location\": location,\n",
    "        \"temperature\": 72,\n",
    "        \"forecast\": \"Partly cloudy with a chance of rain.\"\n",
    "    }\n",
    "    return weather_info"
   ]
  },
  {
   "cell_type": "code",
   "execution_count": 66,
   "metadata": {},
   "outputs": [],
   "source": [
    "tools = [\n",
    "    {\n",
    "        \"type\": \"function\",\n",
    "        \"function\": {\n",
    "            \"name\": \"get_current_weather\",\n",
    "            \"description\": \"use this function to get the status of the current weather, this would be useful when the user asks 'what is the weather right now?' or when the user asks 'should I walk to Tepper building?' for example\",\n",
    "            \"parameters\": {\n",
    "                \"type\": \"object\",\n",
    "                \"properties\": {\n",
    "                    \"location\":{\n",
    "                        \"type\" : \"string\",\n",
    "                        \"description\": \"The location you want the weather for\"\n",
    "                    },\n",
    "                },\n",
    "            },\n",
    "            \"required\": [\"location\"],\n",
    "            \"additionalProperties\": False,\n",
    "        }\n",
    "    }\n",
    "]"
   ]
  },
  {
   "cell_type": "code",
   "execution_count": 93,
   "metadata": {},
   "outputs": [],
   "source": [
    "messages = [\n",
    "    {\"role\": \"system\", \"content\": \"You are a weather assistant. Help the user to determine the weather at a specific location.\"},\n",
    "    #{\"role\":\"user\",\"content\": \"Tell me about CMU Scotty Labs\"},\n",
    "    \n",
    "    {\"role\":\"user\",\"content\": \"whats the weather in vietnam rn\"}\n",
    "]"
   ]
  },
  {
   "cell_type": "markdown",
   "metadata": {},
   "source": [
    "# Function Calling Walk Through"
   ]
  },
  {
   "cell_type": "code",
   "execution_count": 133,
   "metadata": {},
   "outputs": [
    {
     "name": "stdout",
     "output_type": "stream",
     "text": [
      "[{'role': 'system', 'content': 'You are a weather assistant. Help the user to determine the weather at a specific location.'}, {'role': 'user', 'content': 'whats the weather in vietnam rn'}, ChatCompletionMessage(content=None, role='assistant', function_call=None, tool_calls=[ChatCompletionMessageToolCall(id='call_wm5MdyGhPGy0O6MhJEa46Ggv', function=Function(arguments='{\"location\":\"Vietnam\"}', name='get_current_weather'), type='function')], refusal=None)]\n",
      "ChatCompletion(id='chatcmpl-ACZWqRV9XOSMcdqLQhSCJrZUAhYl1', choices=[Choice(finish_reason='tool_calls', index=0, logprobs=None, message=ChatCompletionMessage(content=None, role='assistant', function_call=None, tool_calls=[ChatCompletionMessageToolCall(id='call_wm5MdyGhPGy0O6MhJEa46Ggv', function=Function(arguments='{\"location\":\"Vietnam\"}', name='get_current_weather'), type='function')], refusal=None))], created=1727559872, model='gpt-4o-mini-2024-07-18', object='chat.completion', system_fingerprint='fp_f85bea6784', usage=CompletionUsage(completion_tokens=15, prompt_tokens=117, total_tokens=132, completion_tokens_details={'reasoning_tokens': 0}))\n"
     ]
    }
   ],
   "source": [
    "messages = [\n",
    "    {\"role\": \"system\", \"content\": \"You are a weather assistant. Help the user to determine the weather at a specific location.\"},\n",
    "    #{\"role\":\"user\",\"content\": \"Tell me about CMU Scotty Labs\"},\n",
    "    \n",
    "    {\"role\":\"user\",\"content\": \"whats the weather in vietnam rn\"}\n",
    "]\n",
    "\n",
    "response = openai.chat.completions.create(\n",
    "    model=\"gpt-4o-mini\",\n",
    "    messages = messages,\n",
    "    tools = tools\n",
    ")\n",
    "messages.append(response.choices[0].message)\n",
    "print(messages)\n",
    "print(response)"
   ]
  },
  {
   "cell_type": "code",
   "execution_count": 134,
   "metadata": {},
   "outputs": [
    {
     "name": "stdout",
     "output_type": "stream",
     "text": [
      "Function Called\n",
      "[ChatCompletionMessageToolCall(id='call_wm5MdyGhPGy0O6MhJEa46Ggv', function=Function(arguments='{\"location\":\"Vietnam\"}', name='get_current_weather'), type='function')]\n"
     ]
    }
   ],
   "source": [
    "tool_call = response.choices[0].message.tool_calls\n",
    "flag = False\n",
    "if tool_call:\n",
    "    print(\"Function Called\")\n",
    "    print(tool_call)\n",
    "    flag = True\n",
    "else:\n",
    "    print(\"Function Not Called\")\n",
    "    print(response.choices[0].message.content)\n",
    "    print(\"\\n\\n\\n\")"
   ]
  },
  {
   "cell_type": "code",
   "execution_count": 135,
   "metadata": {},
   "outputs": [
    {
     "name": "stdout",
     "output_type": "stream",
     "text": [
      "location recognised bylChatgpt: Vietnam\n",
      "weather update: {'location': 'Vietnam', 'temperature': 72, 'forecast': 'Partly cloudy with a chance of rain.'}\n"
     ]
    }
   ],
   "source": [
    "#weather_update = {'location': 'Vietnam', 'temperature': 72, 'forecast': 'Partly cloudy with a chance of rain.'}\n",
    "if flag:\n",
    "    tool_call = response.choices[0].message.tool_calls[0]\n",
    "\n",
    "    arguments = json.loads(tool_call.function.arguments)\n",
    "    location = arguments.get(\"location\")\n",
    "    weather_update = get_current_weather(location)\n",
    "    print(f\"location recognised bylChatgpt: {location}\") \n",
    "    print(f\"weather update: {weather_update}\")\n",
    "\n",
    "    function_call_result_message = {\n",
    "        \"role\": \"tool\",\n",
    "        \"content\": json.dumps({\n",
    "            \"location\": weather_update['location'],\n",
    "            \"forecast\": weather_update['forecast'],\n",
    "            \"temperature\": weather_update['temperature'],\n",
    "        }),\n",
    "        \"tool_call_id\": response.choices[0].message.tool_calls[0].id\n",
    "    }\n"
   ]
  },
  {
   "cell_type": "code",
   "execution_count": 136,
   "metadata": {},
   "outputs": [],
   "source": [
    "messages.append(function_call_result_message)\n",
    "completion_payload = {\n",
    "    \"model\": \"gpt-4o-mini\",\n",
    "    \"messages\": messages\n",
    "}"
   ]
  },
  {
   "cell_type": "code",
   "execution_count": 137,
   "metadata": {},
   "outputs": [
    {
     "name": "stdout",
     "output_type": "stream",
     "text": [
      "The current weather in Vietnam is partly cloudy with a chance of rain. The temperature is around 72°F.\n"
     ]
    }
   ],
   "source": [
    "response = client.chat.completions.create(\n",
    "    model=completion_payload[\"model\"],\n",
    "    messages=completion_payload[\"messages\"]\n",
    ")\n",
    "\n",
    "print(response.choices[0].message.content)"
   ]
  }
 ],
 "metadata": {
  "kernelspec": {
   "display_name": "Python 3",
   "language": "python",
   "name": "python3"
  },
  "language_info": {
   "codemirror_mode": {
    "name": "ipython",
    "version": 3
   },
   "file_extension": ".py",
   "mimetype": "text/x-python",
   "name": "python",
   "nbconvert_exporter": "python",
   "pygments_lexer": "ipython3",
   "version": "3.9.6"
  }
 },
 "nbformat": 4,
 "nbformat_minor": 2
}
